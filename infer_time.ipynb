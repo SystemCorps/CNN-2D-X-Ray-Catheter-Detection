{
 "cells": [
  {
   "cell_type": "code",
   "execution_count": 10,
   "id": "d3c66db0",
   "metadata": {},
   "outputs": [],
   "source": [
    "import numpy as np\n",
    "import os\n",
    "from glob import glob\n",
    "\n",
    "import tensorflow as tf\n",
    "from tensorflow import keras\n",
    "from tensorflow.keras.preprocessing.image import ImageDataGenerator\n",
    "from tensorflow.keras.optimizers import SGD\n",
    "from tensorflow.keras.callbacks import ModelCheckpoint\n",
    "from tensorflow.keras.callbacks import TensorBoard\n",
    "from tensorflow.keras.layers import Conv2D, Conv2DTranspose, MaxPooling2D, UpSampling2D, GlobalAveragePooling2D\n",
    "from tensorflow.keras.layers import Input, concatenate, Activation, Dense, Reshape, Lambda, Dropout, Multiply, Add\n",
    "from tensorflow.keras import models\n",
    "\n",
    "import imgaug\n",
    "from sklearn.model_selection import train_test_split\n",
    "\n",
    "from utils_dh import utils, unet\n",
    "from python.common.NnetsX import NNets ,MyReLU\n",
    "\n",
    "import cv2\n",
    "import math\n",
    "\n",
    "import datetime\n",
    "import pickle as pk\n",
    "\n",
    "import matplotlib.pyplot as plt\n",
    "import time"
   ]
  },
  {
   "cell_type": "code",
   "execution_count": 2,
   "id": "020f5290",
   "metadata": {},
   "outputs": [
    {
     "name": "stderr",
     "output_type": "stream",
     "text": [
      "2021-11-04 02:05:41.663735: I tensorflow/stream_executor/cuda/cuda_gpu_executor.cc:937] successful NUMA node read from SysFS had negative value (-1), but there must be at least one NUMA node, so returning NUMA node zero\n",
      "2021-11-04 02:05:41.670845: I tensorflow/stream_executor/cuda/cuda_gpu_executor.cc:937] successful NUMA node read from SysFS had negative value (-1), but there must be at least one NUMA node, so returning NUMA node zero\n",
      "2021-11-04 02:05:41.671960: I tensorflow/stream_executor/cuda/cuda_gpu_executor.cc:937] successful NUMA node read from SysFS had negative value (-1), but there must be at least one NUMA node, so returning NUMA node zero\n",
      "/usr/local/lib/python3.8/dist-packages/keras/optimizer_v2/optimizer_v2.py:355: UserWarning: The `lr` argument is deprecated, use `learning_rate` instead.\n",
      "  warnings.warn(\n",
      "2021-11-04 02:05:41.683207: I tensorflow/core/platform/cpu_feature_guard.cc:142] This TensorFlow binary is optimized with oneAPI Deep Neural Network Library (oneDNN) to use the following CPU instructions in performance-critical operations:  AVX2 FMA\n",
      "To enable them in other operations, rebuild TensorFlow with the appropriate compiler flags.\n",
      "2021-11-04 02:05:41.685225: I tensorflow/stream_executor/cuda/cuda_gpu_executor.cc:937] successful NUMA node read from SysFS had negative value (-1), but there must be at least one NUMA node, so returning NUMA node zero\n",
      "2021-11-04 02:05:41.686388: I tensorflow/stream_executor/cuda/cuda_gpu_executor.cc:937] successful NUMA node read from SysFS had negative value (-1), but there must be at least one NUMA node, so returning NUMA node zero\n",
      "2021-11-04 02:05:41.687739: I tensorflow/stream_executor/cuda/cuda_gpu_executor.cc:937] successful NUMA node read from SysFS had negative value (-1), but there must be at least one NUMA node, so returning NUMA node zero\n",
      "2021-11-04 02:05:42.104218: I tensorflow/stream_executor/cuda/cuda_gpu_executor.cc:937] successful NUMA node read from SysFS had negative value (-1), but there must be at least one NUMA node, so returning NUMA node zero\n",
      "2021-11-04 02:05:42.105350: I tensorflow/stream_executor/cuda/cuda_gpu_executor.cc:937] successful NUMA node read from SysFS had negative value (-1), but there must be at least one NUMA node, so returning NUMA node zero\n",
      "2021-11-04 02:05:42.106429: I tensorflow/stream_executor/cuda/cuda_gpu_executor.cc:937] successful NUMA node read from SysFS had negative value (-1), but there must be at least one NUMA node, so returning NUMA node zero\n",
      "2021-11-04 02:05:42.107470: I tensorflow/core/common_runtime/gpu/gpu_device.cc:1510] Created device /job:localhost/replica:0/task:0/device:GPU:0 with 22314 MB memory:  -> device: 0, name: NVIDIA GeForce RTX 3090, pci bus id: 0000:4d:00.0, compute capability: 8.6\n"
     ]
    }
   ],
   "source": [
    "gpu = 0\n",
    "gpus = tf.config.list_physical_devices('GPU')\n",
    "if gpus:\n",
    "    try:\n",
    "        tf.config.set_visible_devices(gpus[gpu], 'GPU')\n",
    "        tf.config.experimental.set_memory_growth(gpus[gpu], True)\n",
    "    except RuntimeError as e:\n",
    "        print(e)\n",
    "\n",
    "tf.keras.backend.set_image_data_format('channels_last')\n",
    "\n",
    "BATCH_NORMALIZATION_NO = -1\n",
    "BATCH_NORMALIZATION_YES = 0\n",
    "\n",
    "DOWNSAMPLING_MAXPOOL = 0\n",
    "DOWNSAMPLING_STRIDED_CONV = 1\n",
    "\n",
    "UPSAMPLING_UPSAMPLE = 0\n",
    "UPSAMPLING_TRANSPOSED_CONV = 1\n",
    "\n",
    "batch_size = 8\n",
    "epochs = 300\n",
    "n_channel = 4\n",
    "input_shape = (256,256,n_channel)\n",
    "\n",
    "model_dir = '/docker/FluSegTip_entire/models/1101_064217/model_best.h5'\n",
    "\n",
    "\n",
    "nnets = NNets()\n",
    "nnets.m_SamePartActivation = MyReLU\n",
    "nnets.m_RegularizerL1L2 = False\n",
    "nnets.m_Dropout = 0.5\n",
    "nnets.m_Residual = True\n",
    "nnets.m_BatchNormalization = BATCH_NORMALIZATION_YES\n",
    "nnets.m_BorderMode = \"same\"\n",
    "nnets.m_Initialization = \"glorot_uniform\"\n",
    "nnets.m_DownSampling = DOWNSAMPLING_STRIDED_CONV\n",
    "nnets.m_UpSampling = UPSAMPLING_UPSAMPLE\n",
    "nbUsedChannel = n_channel\n",
    "nbStartFilter = 8\n",
    "kernelSize = 3\n",
    "nbConvPerLayer = [2, 2, 2, 2, 2, 2, 2]\n",
    "nbDeconvPerLayer = [2, 2, 2, 2, 2, 2]\n",
    "\n",
    "optimizer = SGD(lr=0.01, decay=5e-4, momentum=0.99)\n",
    "\n",
    "model1 = nnets.DefineDeepUVNet(input_shape, _nbFilters=nbStartFilter, _kernelSize=kernelSize,\n",
    "                              _convPerLevel=nbConvPerLayer, _upConvPerLevel=nbDeconvPerLayer, _optimizer=optimizer)"
   ]
  },
  {
   "cell_type": "code",
   "execution_count": 3,
   "id": "852d33e0",
   "metadata": {},
   "outputs": [],
   "source": [
    "model2 = unet.unet((256,256,16), layers=6, filter_root=64, output_channel=2, residual=1, conv_act='leaky')"
   ]
  },
  {
   "cell_type": "code",
   "execution_count": 5,
   "id": "24bf09c0",
   "metadata": {},
   "outputs": [],
   "source": [
    "input_tensor = Input((256,256,19))\n",
    "\n",
    "gw4 = Lambda(lambda x: x[:,:,:,:4], output_shape=(1,))(input_tensor)\n",
    "angios = Lambda(lambda x: x[:,:,:,4:], output_shape=(1,))(input_tensor)\n",
    "\n",
    "seg_gw_not = model1(gw4)\n",
    "bitcast_to_int32 = tf.bitcast(seg_gw_not, tf.int32)\n",
    "invert_bits = tf.constant(-1) - bitcast_to_int32\n",
    "bitcast_to_float = tf.bitcast(invert_bits, tf.float32)\n",
    "seg_gw = tf.math.scalar_mul(2.0, bitcast_to_float)\n",
    "seg_gw = tf.subtract(seg_gw, 1)\n",
    "\n",
    "to_reg = concatenate([seg_gw, angios], axis=-1)\n",
    "output = model2(to_reg)\n",
    "new_model = models.Model(input_tensor, output)"
   ]
  },
  {
   "cell_type": "code",
   "execution_count": 7,
   "id": "df50a9ba",
   "metadata": {},
   "outputs": [
    {
     "name": "stdout",
     "output_type": "stream",
     "text": [
      "Model: \"model_2\"\n",
      "__________________________________________________________________________________________________\n",
      "Layer (type)                    Output Shape         Param #     Connected to                     \n",
      "==================================================================================================\n",
      "input_4 (InputLayer)            [(None, 256, 256, 19 0                                            \n",
      "__________________________________________________________________________________________________\n",
      "lambda_2 (Lambda)               (None, 256, 256, 4)  0           input_4[0][0]                    \n",
      "__________________________________________________________________________________________________\n",
      "model (Functional)              (None, 256, 256, 1)  14181201    lambda_2[0][0]                   \n",
      "__________________________________________________________________________________________________\n",
      "tf.bitcast_2 (TFOpLambda)       (None, 256, 256, 1)  0           model[1][0]                      \n",
      "__________________________________________________________________________________________________\n",
      "tf.math.subtract_2 (TFOpLambda) (None, 256, 256, 1)  0           tf.bitcast_2[0][0]               \n",
      "__________________________________________________________________________________________________\n",
      "tf.bitcast_3 (TFOpLambda)       (None, 256, 256, 1)  0           tf.math.subtract_2[0][0]         \n",
      "__________________________________________________________________________________________________\n",
      "tf.compat.v1.math.scalar_mul_1  (None, 256, 256, 1)  0           tf.bitcast_3[0][0]               \n",
      "__________________________________________________________________________________________________\n",
      "tf.math.subtract_3 (TFOpLambda) (None, 256, 256, 1)  0           tf.compat.v1.math.scalar_mul_1[0]\n",
      "__________________________________________________________________________________________________\n",
      "lambda_3 (Lambda)               (None, 256, 256, 15) 0           input_4[0][0]                    \n",
      "__________________________________________________________________________________________________\n",
      "concatenate_11 (Concatenate)    (None, 256, 256, 16) 0           tf.math.subtract_3[0][0]         \n",
      "                                                                 lambda_3[0][0]                   \n",
      "__________________________________________________________________________________________________\n",
      "model_1 (Functional)            (None, 256, 256, 2)  129964738   concatenate_11[0][0]             \n",
      "==================================================================================================\n",
      "Total params: 144,145,939\n",
      "Trainable params: 144,134,819\n",
      "Non-trainable params: 11,120\n",
      "__________________________________________________________________________________________________\n"
     ]
    }
   ],
   "source": [
    "new_model.summary()"
   ]
  },
  {
   "cell_type": "code",
   "execution_count": 11,
   "id": "fbb9ef6d",
   "metadata": {},
   "outputs": [],
   "source": [
    "del model1, model2"
   ]
  },
  {
   "cell_type": "code",
   "execution_count": 8,
   "id": "1f27013f",
   "metadata": {},
   "outputs": [],
   "source": [
    "tin = np.random.rand(1000, 256, 256, 19).astype(np.float32)"
   ]
  },
  {
   "cell_type": "code",
   "execution_count": 13,
   "id": "1b83de5a",
   "metadata": {},
   "outputs": [
    {
     "name": "stdout",
     "output_type": "stream",
     "text": [
      "0.055670574426651 0.0091847843981798 0.05567415904998779\n"
     ]
    }
   ],
   "source": [
    "times = []\n",
    "pre = time.time()\n",
    "ppre = pre\n",
    "for i in range(tin.shape[0]):\n",
    "    data = tin[i].reshape(1, 256, 256, 19)\n",
    "    _ = new_model.predict(data)\n",
    "    t = time.time() - pre\n",
    "    times.append(t)\n",
    "    pre = time.time()\n",
    "last = time.time()\n",
    "times = np.array(times)\n",
    "print(np.mean(times), np.std(times), (last - ppre)/1000.0)"
   ]
  },
  {
   "cell_type": "code",
   "execution_count": 18,
   "id": "f5e175f0",
   "metadata": {},
   "outputs": [
    {
     "data": {
      "text/plain": [
       "11.40633566666822"
      ]
     },
     "execution_count": 18,
     "metadata": {},
     "output_type": "execute_result"
    }
   ],
   "source": [
    "1 / (np.mean(times)+0.032)"
   ]
  },
  {
   "cell_type": "code",
   "execution_count": 19,
   "id": "5bf96a01",
   "metadata": {},
   "outputs": [
    {
     "data": {
      "text/plain": [
       "11.405869310133284"
      ]
     },
     "execution_count": 19,
     "metadata": {},
     "output_type": "execute_result"
    }
   ],
   "source": [
    "1 / (((last - ppre)/1000.0) + 0.032)"
   ]
  }
 ],
 "metadata": {
  "kernelspec": {
   "display_name": "Python 3 (ipykernel)",
   "language": "python",
   "name": "python3"
  },
  "language_info": {
   "codemirror_mode": {
    "name": "ipython",
    "version": 3
   },
   "file_extension": ".py",
   "mimetype": "text/x-python",
   "name": "python",
   "nbconvert_exporter": "python",
   "pygments_lexer": "ipython3",
   "version": "3.8.10"
  }
 },
 "nbformat": 4,
 "nbformat_minor": 5
}
