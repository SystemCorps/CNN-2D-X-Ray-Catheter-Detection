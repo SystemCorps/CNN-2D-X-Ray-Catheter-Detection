{
 "cells": [
  {
   "cell_type": "code",
   "execution_count": 8,
   "id": "392d9e2e",
   "metadata": {},
   "outputs": [],
   "source": [
    "import pickle\n",
    "import os\n",
    "from glob import glob\n",
    "import numpy as np\n",
    "from utils_dh import utils"
   ]
  },
  {
   "cell_type": "code",
   "execution_count": 2,
   "id": "9585838d",
   "metadata": {},
   "outputs": [],
   "source": [
    "d1 = pickle.load(open('/docker/entire_list_1011.pkl', 'rb'))\n",
    "d2 = pickle.load(open('/docker/i2i/EntireData/entire_list_211026.pkl', 'rb'))"
   ]
  },
  {
   "cell_type": "code",
   "execution_count": 3,
   "id": "361cbc20",
   "metadata": {
    "collapsed": true,
    "jupyter": {
     "outputs_hidden": true
    }
   },
   "outputs": [
    {
     "data": {
      "text/plain": [
       "{53: [1],\n",
       " 51: [1],\n",
       " 38: [1],\n",
       " 12: [2, 1],\n",
       " 17: [2, 1],\n",
       " 43: [2, 1],\n",
       " 14: [3],\n",
       " 50: [1],\n",
       " 15: [1],\n",
       " 36: [3, 2, 1],\n",
       " 6: [2, 1],\n",
       " 19: [3],\n",
       " 3: [3],\n",
       " 61: [5, 2],\n",
       " 4: [2],\n",
       " 42: [2, 1],\n",
       " 58: [2, 1],\n",
       " 30: [2],\n",
       " 11: [2, 1],\n",
       " 7: [1],\n",
       " 13: [2, 1],\n",
       " 5: [2, 1],\n",
       " 40: [2, 1],\n",
       " 45: [1],\n",
       " 20: [2, 1],\n",
       " 65: [3],\n",
       " 8: [2, 1],\n",
       " 35: [2, 1],\n",
       " 44: [2, 1],\n",
       " 55: [2, 1],\n",
       " 29: [2, 1],\n",
       " 64: [1],\n",
       " 2: [1],\n",
       " 56: [2, 1],\n",
       " 63: [1],\n",
       " 52: [2, 1],\n",
       " 41: [1],\n",
       " 48: [2, 1],\n",
       " 22: [1],\n",
       " 31: [1],\n",
       " 57: [1],\n",
       " 1: [2, 1],\n",
       " 27: [1],\n",
       " 25: [3],\n",
       " 9: [1],\n",
       " 47: [2]}"
      ]
     },
     "execution_count": 3,
     "metadata": {},
     "output_type": "execute_result"
    }
   ],
   "source": [
    "d1['train']"
   ]
  },
  {
   "cell_type": "code",
   "execution_count": 10,
   "id": "3a6f2135",
   "metadata": {},
   "outputs": [],
   "source": [
    "ps_dict = d1\n",
    "ps_dict_root = '/docker/entire_list_1011.pkl'\n",
    "#ps_dict = pk.load(open(ps_dict_root, 'rb'))\n",
    "ps_root = '/docker/i2i/EntireData'"
   ]
  },
  {
   "cell_type": "code",
   "execution_count": 21,
   "id": "a0b1fe61",
   "metadata": {},
   "outputs": [
    {
     "name": "stdout",
     "output_type": "stream",
     "text": [
      "/docker/i2i/EntireData/65/set03\n",
      "/docker/i2i/EntireData/35/set02\n"
     ]
    }
   ],
   "source": [
    "hyper = {'Width':256, 'Height':256,\n",
    "         'FlipProb':1,\n",
    "         'AffineScale':1.0,\n",
    "         'AffineTrans':0,\n",
    "         'AffineRot':0,\n",
    "         'AffineCval': 0,\n",
    "         'Dataset':[ps_dict_root, ps_root],\n",
    "         'ModelSavingPath': 'aa',\n",
    "         'SummaryDir': 'aa',\n",
    "         'BatchSize':8,\n",
    "         'Epochs':10}\n",
    "\n",
    "\n",
    "train_gen = utils.entireDataGen(ps_dict['train'], ps_root, hyper, batch_size=8, tipOnly=True)\n",
    "valid_gen = utils.entireDataGen(d2['test'], ps_root, hyper, batch_size=8, valid=True, tipOnly=True)"
   ]
  },
  {
   "cell_type": "code",
   "execution_count": 22,
   "id": "665213fc",
   "metadata": {},
   "outputs": [
    {
     "data": {
      "text/plain": [
       "9493"
      ]
     },
     "execution_count": 22,
     "metadata": {},
     "output_type": "execute_result"
    }
   ],
   "source": [
    "len(train_gen.x_lists)"
   ]
  },
  {
   "cell_type": "code",
   "execution_count": 23,
   "id": "a8edb00a",
   "metadata": {},
   "outputs": [
    {
     "data": {
      "text/plain": [
       "4981"
      ]
     },
     "execution_count": 23,
     "metadata": {},
     "output_type": "execute_result"
    }
   ],
   "source": [
    "len(valid_gen.x_lists)"
   ]
  },
  {
   "cell_type": "code",
   "execution_count": 28,
   "id": "67968e17",
   "metadata": {},
   "outputs": [],
   "source": [
    "ps = []\n",
    "for p in ps_dict['train'].keys():\n",
    "    for s in ps_dict['train'][p]:\n",
    "        ps.append([p, s])"
   ]
  },
  {
   "cell_type": "code",
   "execution_count": 30,
   "id": "e025793b",
   "metadata": {},
   "outputs": [],
   "source": [
    "ps = np.array(ps)"
   ]
  },
  {
   "cell_type": "code",
   "execution_count": 31,
   "id": "d4bed480",
   "metadata": {},
   "outputs": [
    {
     "data": {
      "text/plain": [
       "array([[53,  1],\n",
       "       [51,  1],\n",
       "       [38,  1],\n",
       "       [12,  2],\n",
       "       [12,  1],\n",
       "       [17,  2],\n",
       "       [17,  1],\n",
       "       [43,  2],\n",
       "       [43,  1],\n",
       "       [14,  3],\n",
       "       [50,  1],\n",
       "       [15,  1],\n",
       "       [36,  3],\n",
       "       [36,  2],\n",
       "       [36,  1],\n",
       "       [ 6,  2],\n",
       "       [ 6,  1],\n",
       "       [19,  3],\n",
       "       [ 3,  3],\n",
       "       [61,  5],\n",
       "       [61,  2],\n",
       "       [ 4,  2],\n",
       "       [42,  2],\n",
       "       [42,  1],\n",
       "       [58,  2],\n",
       "       [58,  1],\n",
       "       [30,  2],\n",
       "       [11,  2],\n",
       "       [11,  1],\n",
       "       [ 7,  1],\n",
       "       [13,  2],\n",
       "       [13,  1],\n",
       "       [ 5,  2],\n",
       "       [ 5,  1],\n",
       "       [40,  2],\n",
       "       [40,  1],\n",
       "       [45,  1],\n",
       "       [20,  2],\n",
       "       [20,  1],\n",
       "       [65,  3],\n",
       "       [ 8,  2],\n",
       "       [ 8,  1],\n",
       "       [35,  2],\n",
       "       [35,  1],\n",
       "       [44,  2],\n",
       "       [44,  1],\n",
       "       [55,  2],\n",
       "       [55,  1],\n",
       "       [29,  2],\n",
       "       [29,  1],\n",
       "       [64,  1],\n",
       "       [ 2,  1],\n",
       "       [56,  2],\n",
       "       [56,  1],\n",
       "       [63,  1],\n",
       "       [52,  2],\n",
       "       [52,  1],\n",
       "       [41,  1],\n",
       "       [48,  2],\n",
       "       [48,  1],\n",
       "       [22,  1],\n",
       "       [31,  1],\n",
       "       [57,  1],\n",
       "       [ 1,  2],\n",
       "       [ 1,  1],\n",
       "       [27,  1],\n",
       "       [25,  3],\n",
       "       [ 9,  1],\n",
       "       [47,  2]])"
      ]
     },
     "execution_count": 31,
     "metadata": {},
     "output_type": "execute_result"
    }
   ],
   "source": [
    "ps"
   ]
  },
  {
   "cell_type": "code",
   "execution_count": 32,
   "id": "157dc170",
   "metadata": {},
   "outputs": [],
   "source": [
    "np.random.shuffle(ps)"
   ]
  },
  {
   "cell_type": "code",
   "execution_count": 34,
   "id": "4875e87b",
   "metadata": {},
   "outputs": [
    {
     "data": {
      "text/plain": [
       "55.2"
      ]
     },
     "execution_count": 34,
     "metadata": {},
     "output_type": "execute_result"
    }
   ],
   "source": [
    "69*0.8"
   ]
  },
  {
   "cell_type": "code",
   "execution_count": 39,
   "id": "112c150d",
   "metadata": {},
   "outputs": [],
   "source": [
    "train = ps[:55]\n",
    "valid = ps[55:]"
   ]
  },
  {
   "cell_type": "code",
   "execution_count": 40,
   "id": "95dc28f4",
   "metadata": {},
   "outputs": [
    {
     "data": {
      "text/plain": [
       "55"
      ]
     },
     "execution_count": 40,
     "metadata": {},
     "output_type": "execute_result"
    }
   ],
   "source": [
    "len(train)"
   ]
  },
  {
   "cell_type": "code",
   "execution_count": 41,
   "id": "d05bad50",
   "metadata": {},
   "outputs": [
    {
     "data": {
      "text/plain": [
       "14"
      ]
     },
     "execution_count": 41,
     "metadata": {},
     "output_type": "execute_result"
    }
   ],
   "source": [
    "len(valid)"
   ]
  },
  {
   "cell_type": "code",
   "execution_count": 71,
   "id": "7529e730",
   "metadata": {},
   "outputs": [],
   "source": [
    "new_list = {}\n",
    "new_list = {'train':{}, 'valid':{}}\n",
    "new_list['test'] = d2['test']"
   ]
  },
  {
   "cell_type": "code",
   "execution_count": 72,
   "id": "e6087088",
   "metadata": {},
   "outputs": [
    {
     "name": "stdout",
     "output_type": "stream",
     "text": [
      "61 True 2 True\n",
      "56 True 1 True\n",
      "58 True 1 True\n",
      "61 True 5 True\n",
      "38 True 1 True\n",
      "11 True 1 True\n",
      "19 True 3 True\n",
      "51 True 1 True\n",
      "35 True 2 True\n",
      "44 True 1 True\n",
      "4 True 2 True\n",
      "1 True 2 True\n",
      "13 True 1 True\n",
      "36 True 1 True\n",
      "30 True 2 True\n",
      "2 True 1 True\n",
      "9 True 1 True\n",
      "1 True 1 True\n",
      "52 True 2 True\n",
      "8 True 1 True\n",
      "29 True 1 True\n",
      "44 True 2 True\n",
      "29 True 2 True\n",
      "22 True 1 True\n",
      "42 True 2 True\n",
      "7 True 1 True\n",
      "12 True 2 True\n",
      "43 True 2 True\n",
      "40 True 1 True\n",
      "5 True 2 True\n",
      "35 True 1 True\n",
      "58 True 2 True\n",
      "47 True 2 True\n",
      "14 True 3 True\n",
      "56 True 2 True\n",
      "65 True 3 True\n",
      "53 True 1 True\n",
      "55 True 2 True\n",
      "48 True 2 True\n",
      "25 True 3 True\n",
      "20 True 2 True\n",
      "52 True 1 True\n",
      "27 True 1 True\n",
      "5 True 1 True\n",
      "42 True 1 True\n",
      "57 True 1 True\n",
      "6 True 2 True\n",
      "11 True 2 True\n",
      "13 True 2 True\n",
      "55 True 1 True\n",
      "64 True 1 True\n",
      "31 True 1 True\n",
      "63 True 1 True\n",
      "48 True 1 True\n",
      "17 True 2 True\n"
     ]
    }
   ],
   "source": [
    "for p, s in train:\n",
    "    p = int(p)\n",
    "    s = int(s)\n",
    "    if p in new_list['train'].keys():\n",
    "        new_list['train'][p].append(s)\n",
    "    else:\n",
    "        new_list['train'][p] = [s]\n",
    "    print(p, isinstance(p, int), s, isinstance(p, int))"
   ]
  },
  {
   "cell_type": "code",
   "execution_count": 73,
   "id": "59070b31",
   "metadata": {},
   "outputs": [
    {
     "name": "stdout",
     "output_type": "stream",
     "text": [
      "12 True 1 True\n",
      "41 True 1 True\n",
      "45 True 1 True\n",
      "36 True 2 True\n",
      "50 True 1 True\n",
      "43 True 1 True\n",
      "6 True 1 True\n",
      "20 True 1 True\n",
      "3 True 3 True\n",
      "17 True 1 True\n",
      "40 True 2 True\n",
      "15 True 1 True\n",
      "8 True 2 True\n",
      "36 True 3 True\n"
     ]
    }
   ],
   "source": [
    "for p, s in valid:\n",
    "    p = int(p)\n",
    "    s = int(s)\n",
    "    if s in new_list['valid'].keys():\n",
    "        new_list['valid'][p].append(s)\n",
    "    else:\n",
    "        new_list['valid'][p] = [s]\n",
    "    print(p, isinstance(p, int), s, isinstance(p, int))"
   ]
  },
  {
   "cell_type": "code",
   "execution_count": 74,
   "id": "3769bd35",
   "metadata": {
    "collapsed": true,
    "jupyter": {
     "outputs_hidden": true
    }
   },
   "outputs": [
    {
     "data": {
      "text/plain": [
       "{'train': {61: [2, 5],\n",
       "  56: [1, 2],\n",
       "  58: [1, 2],\n",
       "  38: [1],\n",
       "  11: [1, 2],\n",
       "  19: [3],\n",
       "  51: [1],\n",
       "  35: [2, 1],\n",
       "  44: [1, 2],\n",
       "  4: [2],\n",
       "  1: [2, 1],\n",
       "  13: [1, 2],\n",
       "  36: [1],\n",
       "  30: [2],\n",
       "  2: [1],\n",
       "  9: [1],\n",
       "  52: [2, 1],\n",
       "  8: [1],\n",
       "  29: [1, 2],\n",
       "  22: [1],\n",
       "  42: [2, 1],\n",
       "  7: [1],\n",
       "  12: [2],\n",
       "  43: [2],\n",
       "  40: [1],\n",
       "  5: [2, 1],\n",
       "  47: [2],\n",
       "  14: [3],\n",
       "  65: [3],\n",
       "  53: [1],\n",
       "  55: [2, 1],\n",
       "  48: [2, 1],\n",
       "  25: [3],\n",
       "  20: [2],\n",
       "  27: [1],\n",
       "  57: [1],\n",
       "  6: [2],\n",
       "  64: [1],\n",
       "  31: [1],\n",
       "  63: [1],\n",
       "  17: [2]},\n",
       " 'valid': {12: [1],\n",
       "  41: [1],\n",
       "  45: [1],\n",
       "  36: [2, 3],\n",
       "  50: [1],\n",
       "  43: [1],\n",
       "  6: [1],\n",
       "  20: [1],\n",
       "  3: [3],\n",
       "  17: [1],\n",
       "  40: [2],\n",
       "  15: [1],\n",
       "  8: [2]},\n",
       " 'test': {3: [3],\n",
       "  12: [1],\n",
       "  36: [1],\n",
       "  63: [1],\n",
       "  43: [1],\n",
       "  11: [2, 1],\n",
       "  20: [1],\n",
       "  51: [1],\n",
       "  30: [2],\n",
       "  54: [1],\n",
       "  47: [1],\n",
       "  15: [1],\n",
       "  60: [1],\n",
       "  48: [1],\n",
       "  35: [1],\n",
       "  22: [1],\n",
       "  55: [1],\n",
       "  56: [1],\n",
       "  101: [1],\n",
       "  44: [1],\n",
       "  1: [1],\n",
       "  57: [1],\n",
       "  40: [1],\n",
       "  2: [1],\n",
       "  17: [1],\n",
       "  42: [1],\n",
       "  49: [1],\n",
       "  5: [1],\n",
       "  52: [1],\n",
       "  61: [2],\n",
       "  7: [1],\n",
       "  45: [1],\n",
       "  6: [1]}}"
      ]
     },
     "execution_count": 74,
     "metadata": {},
     "output_type": "execute_result"
    }
   ],
   "source": [
    "new_list"
   ]
  },
  {
   "cell_type": "code",
   "execution_count": 75,
   "id": "5b95f237",
   "metadata": {},
   "outputs": [],
   "source": [
    "with open('/docker/i2i/EntireData/entire_for_seg.pkl', 'wb') as f:\n",
    "    pickle.dump(new_list, f, pickle.HIGHEST_PROTOCOL)"
   ]
  },
  {
   "cell_type": "code",
   "execution_count": 76,
   "id": "7a413bec",
   "metadata": {},
   "outputs": [
    {
     "name": "stdout",
     "output_type": "stream",
     "text": [
      "/docker/i2i/EntireData/35/set02\n",
      "/docker/i2i/EntireData/65/set03\n"
     ]
    }
   ],
   "source": [
    "train_gen = utils.entireDataGen(new_list['train'], ps_root, hyper, batch_size=8, tipOnly=True)\n",
    "valid_gen = utils.entireDataGen(new_list['valid'], ps_root, hyper, batch_size=8, valid=True, tipOnly=True)"
   ]
  },
  {
   "cell_type": "code",
   "execution_count": 77,
   "id": "7182300c",
   "metadata": {},
   "outputs": [
    {
     "data": {
      "text/plain": [
       "7707"
      ]
     },
     "execution_count": 77,
     "metadata": {},
     "output_type": "execute_result"
    }
   ],
   "source": [
    "len(train_gen.x_lists)"
   ]
  },
  {
   "cell_type": "code",
   "execution_count": 78,
   "id": "763d7c91",
   "metadata": {},
   "outputs": [
    {
     "data": {
      "text/plain": [
       "1786"
      ]
     },
     "execution_count": 78,
     "metadata": {},
     "output_type": "execute_result"
    }
   ],
   "source": [
    "len(valid_gen.x_lists)"
   ]
  },
  {
   "cell_type": "code",
   "execution_count": 79,
   "id": "af37851d",
   "metadata": {},
   "outputs": [
    {
     "data": {
      "text/plain": [
       "0.811861371536922"
      ]
     },
     "execution_count": 79,
     "metadata": {},
     "output_type": "execute_result"
    }
   ],
   "source": [
    "7707/9493"
   ]
  }
 ],
 "metadata": {
  "kernelspec": {
   "display_name": "Python 3 (ipykernel)",
   "language": "python",
   "name": "python3"
  },
  "language_info": {
   "codemirror_mode": {
    "name": "ipython",
    "version": 3
   },
   "file_extension": ".py",
   "mimetype": "text/x-python",
   "name": "python",
   "nbconvert_exporter": "python",
   "pygments_lexer": "ipython3",
   "version": "3.8.10"
  }
 },
 "nbformat": 4,
 "nbformat_minor": 5
}
